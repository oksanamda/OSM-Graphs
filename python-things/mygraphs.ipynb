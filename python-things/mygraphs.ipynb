{
  "nbformat": 4,
  "nbformat_minor": 0,
  "metadata": {
    "kernelspec": {
      "display_name": "Python 3",
      "language": "python",
      "name": "python3"
    },
    "language_info": {
      "codemirror_mode": {
        "name": "ipython",
        "version": 3
      },
      "file_extension": ".py",
      "mimetype": "text/x-python",
      "name": "python",
      "nbconvert_exporter": "python",
      "pygments_lexer": "ipython3",
      "version": "3.8.2"
    },
    "colab": {
      "name": "mygraphs.ipynb",
      "provenance": [],
      "collapsed_sections": [],
      "toc_visible": true
    }
  },
  "cells": [
    {
      "cell_type": "markdown",
      "metadata": {
        "id": "hQWVCHFTfd4z",
        "colab_type": "text"
      },
      "source": [
        "### Подготовительный этап."
      ]
    },
    {
      "cell_type": "code",
      "metadata": {
        "id": "uJe0kAYVgDaI",
        "colab_type": "code",
        "outputId": "4a73ba03-eb5d-4685-971b-d7b55f74416f",
        "colab": {
          "base_uri": "https://localhost:8080/",
          "height": 595
        }
      },
      "source": [
        "!apt install libspatialindex-dev\n",
        "!pip install osmnx"
      ],
      "execution_count": 2,
      "outputs": [
        {
          "output_type": "stream",
          "text": [
            "Reading package lists... Done\n",
            "Building dependency tree       \n",
            "Reading state information... Done\n",
            "libspatialindex-dev is already the newest version (1.8.5-5).\n",
            "0 upgraded, 0 newly installed, 0 to remove and 32 not upgraded.\n",
            "Requirement already satisfied: osmnx in /usr/local/lib/python3.6/dist-packages (0.13.0)\n",
            "Requirement already satisfied: matplotlib>=3.2 in /usr/local/lib/python3.6/dist-packages (from osmnx) (3.2.1)\n",
            "Requirement already satisfied: requests>=2.23 in /usr/local/lib/python3.6/dist-packages (from osmnx) (2.23.0)\n",
            "Requirement already satisfied: descartes>=1.1 in /usr/local/lib/python3.6/dist-packages (from osmnx) (1.1.0)\n",
            "Requirement already satisfied: pyproj>=2.6 in /usr/local/lib/python3.6/dist-packages (from osmnx) (2.6.1.post1)\n",
            "Requirement already satisfied: Shapely>=1.7 in /usr/local/lib/python3.6/dist-packages (from osmnx) (1.7.0)\n",
            "Requirement already satisfied: numpy>=1.18 in /usr/local/lib/python3.6/dist-packages (from osmnx) (1.18.4)\n",
            "Requirement already satisfied: pandas>=1.0 in /usr/local/lib/python3.6/dist-packages (from osmnx) (1.0.3)\n",
            "Requirement already satisfied: Rtree>=0.9 in /usr/local/lib/python3.6/dist-packages (from osmnx) (0.9.4)\n",
            "Requirement already satisfied: geopandas>=0.7 in /usr/local/lib/python3.6/dist-packages (from osmnx) (0.7.0)\n",
            "Requirement already satisfied: networkx>=2.4 in /usr/local/lib/python3.6/dist-packages (from osmnx) (2.4)\n",
            "Requirement already satisfied: python-dateutil>=2.1 in /usr/local/lib/python3.6/dist-packages (from matplotlib>=3.2->osmnx) (2.8.1)\n",
            "Requirement already satisfied: cycler>=0.10 in /usr/local/lib/python3.6/dist-packages (from matplotlib>=3.2->osmnx) (0.10.0)\n",
            "Requirement already satisfied: kiwisolver>=1.0.1 in /usr/local/lib/python3.6/dist-packages (from matplotlib>=3.2->osmnx) (1.2.0)\n",
            "Requirement already satisfied: pyparsing!=2.0.4,!=2.1.2,!=2.1.6,>=2.0.1 in /usr/local/lib/python3.6/dist-packages (from matplotlib>=3.2->osmnx) (2.4.7)\n",
            "Requirement already satisfied: certifi>=2017.4.17 in /usr/local/lib/python3.6/dist-packages (from requests>=2.23->osmnx) (2020.4.5.1)\n",
            "Requirement already satisfied: idna<3,>=2.5 in /usr/local/lib/python3.6/dist-packages (from requests>=2.23->osmnx) (2.9)\n",
            "Requirement already satisfied: chardet<4,>=3.0.2 in /usr/local/lib/python3.6/dist-packages (from requests>=2.23->osmnx) (3.0.4)\n",
            "Requirement already satisfied: urllib3!=1.25.0,!=1.25.1,<1.26,>=1.21.1 in /usr/local/lib/python3.6/dist-packages (from requests>=2.23->osmnx) (1.24.3)\n",
            "Requirement already satisfied: pytz>=2017.2 in /usr/local/lib/python3.6/dist-packages (from pandas>=1.0->osmnx) (2018.9)\n",
            "Requirement already satisfied: setuptools in /usr/local/lib/python3.6/dist-packages (from Rtree>=0.9->osmnx) (47.1.1)\n",
            "Requirement already satisfied: fiona in /usr/local/lib/python3.6/dist-packages (from geopandas>=0.7->osmnx) (1.8.13.post1)\n",
            "Requirement already satisfied: decorator>=4.3.0 in /usr/local/lib/python3.6/dist-packages (from networkx>=2.4->osmnx) (4.4.2)\n",
            "Requirement already satisfied: six>=1.5 in /usr/local/lib/python3.6/dist-packages (from python-dateutil>=2.1->matplotlib>=3.2->osmnx) (1.12.0)\n",
            "Requirement already satisfied: click<8,>=4.0 in /usr/local/lib/python3.6/dist-packages (from fiona->geopandas>=0.7->osmnx) (7.1.2)\n",
            "Requirement already satisfied: attrs>=17 in /usr/local/lib/python3.6/dist-packages (from fiona->geopandas>=0.7->osmnx) (19.3.0)\n",
            "Requirement already satisfied: click-plugins>=1.0 in /usr/local/lib/python3.6/dist-packages (from fiona->geopandas>=0.7->osmnx) (1.1.1)\n",
            "Requirement already satisfied: munch in /usr/local/lib/python3.6/dist-packages (from fiona->geopandas>=0.7->osmnx) (2.5.0)\n",
            "Requirement already satisfied: cligj>=0.5 in /usr/local/lib/python3.6/dist-packages (from fiona->geopandas>=0.7->osmnx) (0.5.0)\n"
          ],
          "name": "stdout"
        }
      ]
    },
    {
      "cell_type": "code",
      "metadata": {
        "id": "YvszGHTZfd40",
        "colab_type": "code",
        "colab": {}
      },
      "source": [
        "import osmnx as ox\n",
        "import networkx as nx\n",
        "#import matplotlib.pyplot as plt\n",
        "import numpy as np\n",
        "import pandas as pd\n",
        "import random\n",
        "\n",
        "import csv\n",
        "import json # пока писать будет в json, но если что переделаем"
      ],
      "execution_count": 0,
      "outputs": []
    },
    {
      "cell_type": "markdown",
      "metadata": {
        "id": "HNTBqewP4VoJ",
        "colab_type": "text"
      },
      "source": [
        "Выгрузим граф Уфы с помощью библиотеки osmnx"
      ]
    },
    {
      "cell_type": "code",
      "metadata": {
        "id": "R7y8JOQPfd45",
        "colab_type": "code",
        "colab": {}
      },
      "source": [
        "place = {'city' : 'Ufa',\n",
        "         'country' : 'Russia'}\n",
        "G = ox.graph_from_place(place, network_type='drive', simplify=False)\n",
        "\n",
        "#fig, ax = ox.plot_graph(G, save=True, close=True, file_format='png', filename='Ufa', dpi=500, node_color='#000000', node_size=2, edge_color='#999999', edge_linewidth=0.2)"
      ],
      "execution_count": 0,
      "outputs": []
    },
    {
      "cell_type": "code",
      "metadata": {
        "id": "Qn25UgbSfd4_",
        "colab_type": "code",
        "colab": {}
      },
      "source": [
        "# создадим список всех точек графа\n",
        "nodes_list = list(G.nodes()) "
      ],
      "execution_count": 0,
      "outputs": []
    },
    {
      "cell_type": "code",
      "metadata": {
        "id": "4xqr3Dt9zBob",
        "colab_type": "code",
        "colab": {}
      },
      "source": [
        "# пишем узлы в csv\n",
        "nodes_df = pd.DataFrame(nodes_list)\n",
        "nodes_df.to_csv('nodes.csv', index=False)"
      ],
      "execution_count": 0,
      "outputs": []
    },
    {
      "cell_type": "markdown",
      "metadata": {
        "id": "tBym3O7m4jFA",
        "colab_type": "text"
      },
      "source": [
        "По-хорошему, тут нужно создать матрицу и лист смежности\n"
      ]
    },
    {
      "cell_type": "code",
      "metadata": {
        "id": "ox4jd0AAfd49",
        "colab_type": "code",
        "colab": {}
      },
      "source": [
        "# нахождение расстояний между смежными узлами \n",
        "a = G.adj\n",
        "dictionary = {}\n",
        "i = 0\n",
        "for key, value in a.items():\n",
        "    if i == 10:\n",
        "        break\n",
        "    for key_a, value_a in value.items():\n",
        "\n",
        "        if key not in dictionary:\n",
        "            dictionary[key] = [{key_a:value_a[0]['length']}]\n",
        "        else:\n",
        "            dictionary[key].append({key_a:value_a[0]['length']})                  "
      ],
      "execution_count": 0,
      "outputs": []
    },
    {
      "cell_type": "code",
      "metadata": {
        "id": "Y4zXViJ0iEem",
        "colab_type": "code",
        "colab": {}
      },
      "source": [
        "# пишем список смежности в csv\n",
        "adj_list = nx.generate_adjlist(G, delimiter=' ')\n",
        "with open('adjacency_list.csv', \"w\", newline='') as csv_file:\n",
        "    writer = csv.writer(csv_file, delimiter=' ')\n",
        "    for line in adj_list:\n",
        "        writer.writerow(line)"
      ],
      "execution_count": 0,
      "outputs": []
    },
    {
      "cell_type": "code",
      "metadata": {
        "id": "fABaAhFafd5L",
        "colab_type": "code",
        "colab": {}
      },
      "source": [
        "# матрица смежностти в пандас\n",
        "G_pd = nx.to_pandas_adjacency(G)\n",
        "\n",
        "# можно записать в эксель и это даже работает!!\n",
        "# G_pd.to_csv('matrix_adjacency_pandas.csv')"
      ],
      "execution_count": 0,
      "outputs": []
    },
    {
      "cell_type": "code",
      "metadata": {
        "id": "1JHqQ6trfd5O",
        "colab_type": "code",
        "colab": {}
      },
      "source": [
        "# переводив в нампаевский ndarray\n",
        "# !запускать только один раз!\n",
        "G_pd = G_pd.values"
      ],
      "execution_count": 0,
      "outputs": []
    },
    {
      "cell_type": "code",
      "metadata": {
        "id": "9U4j8i6cfd5V",
        "colab_type": "code",
        "colab": {
          "base_uri": "https://localhost:8080/",
          "height": 136
        },
        "outputId": "9965d1ce-c0e3-4aaa-e908-0172bbfed531"
      },
      "source": [
        "print(G_pd)"
      ],
      "execution_count": 29,
      "outputs": [
        {
          "output_type": "stream",
          "text": [
            "[[0. 0. 0. ... 0. 0. 0.]\n",
            " [0. 0. 0. ... 0. 0. 0.]\n",
            " [0. 0. 0. ... 0. 0. 0.]\n",
            " ...\n",
            " [0. 0. 0. ... 0. 0. 0.]\n",
            " [0. 0. 0. ... 0. 0. 0.]\n",
            " [0. 0. 0. ... 0. 0. 0.]]\n"
          ],
          "name": "stdout"
        }
      ]
    },
    {
      "cell_type": "code",
      "metadata": {
        "id": "fASMVvrAfd5Z",
        "colab_type": "code",
        "colab": {}
      },
      "source": [
        "# пишем полученный ndarray в csv\n",
        "with open('matrix_adjacency.csv', \"w\", newline='') as csv_file:\n",
        "    writer = csv.writer(csv_file, delimiter=',')\n",
        "    for line in G_pd:\n",
        "        writer.writerow(line)"
      ],
      "execution_count": 0,
      "outputs": []
    },
    {
      "cell_type": "markdown",
      "metadata": {
        "id": "H_VyKSZFB2KH",
        "colab_type": "text"
      },
      "source": [
        "Штука внизу не работает, потому что мы дикты создаем только ниже (Оксана)"
      ]
    },
    {
      "cell_type": "code",
      "metadata": {
        "id": "urENASy7fd5b",
        "colab_type": "code",
        "outputId": "a0fb6bb7-d16d-4e6a-f487-2c3b14c7006b",
        "colab": {
          "base_uri": "https://localhost:8080/",
          "height": 231
        }
      },
      "source": [
        "# вместо нулей и единиц записываем в матрицу смежности расстояния между нодами (по формуле из файла)\n",
        "for i in range(len(G_pd)):\n",
        "    for j in range(len(G_pd)):\n",
        "        if G_pd[i][j] == 1:\n",
        "            for k in range(len(dictionary[nodes_list[i]])):\n",
        "                if nodes_list[j] in dictionary[nodes_list[i]][k].keys():\n",
        "                    distance = dictionary[nodes_list[i]][k][nodes_list[j]]   \n",
        "            weight = 1\n",
        "            if nodes_list[i] in hospitals_dict.values():\n",
        "                weight = random() + 1\n",
        "            G_pd[i][j] = distance * weight\n",
        "# если ребра между нодами нет, то заполняем большими расстояниями (для нахождения крастчайших путей)\n",
        "# возможно, можно придумать что-то менее костыльное\n",
        "        if G_pd[i][j] == 0:\n",
        "            G_pd[i][j] = 10**10"
      ],
      "execution_count": 0,
      "outputs": [
        {
          "output_type": "error",
          "ename": "NameError",
          "evalue": "ignored",
          "traceback": [
            "\u001b[0;31m---------------------------------------------------------------------------\u001b[0m",
            "\u001b[0;31mNameError\u001b[0m                                 Traceback (most recent call last)",
            "\u001b[0;32m<ipython-input-22-ca9289e39cd4>\u001b[0m in \u001b[0;36m<module>\u001b[0;34m()\u001b[0m\n\u001b[1;32m      7\u001b[0m                     \u001b[0mdistance\u001b[0m \u001b[0;34m=\u001b[0m \u001b[0mdictionary\u001b[0m\u001b[0;34m[\u001b[0m\u001b[0mnodes_list\u001b[0m\u001b[0;34m[\u001b[0m\u001b[0mi\u001b[0m\u001b[0;34m]\u001b[0m\u001b[0;34m]\u001b[0m\u001b[0;34m[\u001b[0m\u001b[0mk\u001b[0m\u001b[0;34m]\u001b[0m\u001b[0;34m[\u001b[0m\u001b[0mnodes_list\u001b[0m\u001b[0;34m[\u001b[0m\u001b[0mj\u001b[0m\u001b[0;34m]\u001b[0m\u001b[0;34m]\u001b[0m\u001b[0;34m\u001b[0m\u001b[0;34m\u001b[0m\u001b[0m\n\u001b[1;32m      8\u001b[0m             \u001b[0mweight\u001b[0m \u001b[0;34m=\u001b[0m \u001b[0;36m1\u001b[0m\u001b[0;34m\u001b[0m\u001b[0;34m\u001b[0m\u001b[0m\n\u001b[0;32m----> 9\u001b[0;31m             \u001b[0;32mif\u001b[0m \u001b[0mnodes_list\u001b[0m\u001b[0;34m[\u001b[0m\u001b[0mi\u001b[0m\u001b[0;34m]\u001b[0m \u001b[0;32min\u001b[0m \u001b[0mhospitals_dict\u001b[0m\u001b[0;34m.\u001b[0m\u001b[0mvalues\u001b[0m\u001b[0;34m(\u001b[0m\u001b[0;34m)\u001b[0m\u001b[0;34m:\u001b[0m\u001b[0;34m\u001b[0m\u001b[0;34m\u001b[0m\u001b[0m\n\u001b[0m\u001b[1;32m     10\u001b[0m                 \u001b[0mweight\u001b[0m \u001b[0;34m=\u001b[0m \u001b[0mrandom\u001b[0m\u001b[0;34m(\u001b[0m\u001b[0;34m)\u001b[0m \u001b[0;34m+\u001b[0m \u001b[0;36m1\u001b[0m\u001b[0;34m\u001b[0m\u001b[0;34m\u001b[0m\u001b[0m\n\u001b[1;32m     11\u001b[0m             \u001b[0mG_pd\u001b[0m\u001b[0;34m[\u001b[0m\u001b[0mi\u001b[0m\u001b[0;34m]\u001b[0m\u001b[0;34m[\u001b[0m\u001b[0mj\u001b[0m\u001b[0;34m]\u001b[0m \u001b[0;34m=\u001b[0m \u001b[0mdistance\u001b[0m \u001b[0;34m*\u001b[0m \u001b[0mweight\u001b[0m\u001b[0;34m\u001b[0m\u001b[0;34m\u001b[0m\u001b[0m\n",
            "\u001b[0;31mNameError\u001b[0m: name 'hospitals_dict' is not defined"
          ]
        }
      ]
    },
    {
      "cell_type": "markdown",
      "metadata": {
        "id": "vThCbgyo5v8R",
        "colab_type": "text"
      },
      "source": [
        "Выбираем M больниц и N домов"
      ]
    },
    {
      "cell_type": "code",
      "metadata": {
        "id": "45Tdpy4Kfd5C",
        "colab_type": "code",
        "colab": {}
      },
      "source": [
        "# вытаскиваем все больницы и дома\n",
        "\n",
        "buildings = ox.footprints.footprints_from_place(place, footprint_type='building', retain_invalid=False, which_result=1)\n",
        "\n",
        "hospitals = []\n",
        "apartments = []\n",
        "build = buildings['building'].to_dict()\n",
        "\n",
        "for key,value in build.items():\n",
        "    if value == 'hospital':\n",
        "        hospitals.append(key)\n",
        "    elif value == 'apartments':\n",
        "        apartments.append(key)\n"
      ],
      "execution_count": 0,
      "outputs": []
    },
    {
      "cell_type": "code",
      "metadata": {
        "id": "XCIjhDycfd5E",
        "colab_type": "code",
        "colab": {}
      },
      "source": [
        "# для каждой больницы и дома находим соответсвующие им (ближайшие) ноды на графе\n",
        "a = buildings.to_dict()\n",
        "hospitals_dict = {}\n",
        "apartments_dict = {}\n",
        "\n",
        "for i in hospitals:   \n",
        "    bounds = a['geometry'][i].bounds\n",
        "    nearest_node = ox.get_nearest_node(G, ((bounds[1]+bounds[3])/2, (bounds[0]+bounds[2])/2))\n",
        "    hospitals_dict[i] = nearest_node\n",
        "\n",
        "for i in apartments:\n",
        "    bounds = a['geometry'][i].bounds    \n",
        "    nearest_node = ox.get_nearest_node(G, ((bounds[1]+bounds[3])/2, (bounds[0]+bounds[2])/2))\n",
        "    apartments_dict[i] = nearest_node"
      ],
      "execution_count": 0,
      "outputs": []
    },
    {
      "cell_type": "code",
      "metadata": {
        "id": "ggp206p3Ocw-",
        "colab_type": "code",
        "colab": {}
      },
      "source": [
        "# оставим только уникальные значения G\n",
        "temp = hospitals_dict.copy()\n",
        "hospitals_dict = {}\n",
        "\n",
        "for key, value in temp.items():\n",
        "  if value not in hospitals_dict.values():\n",
        "    hospitals_dict[key] = value\n",
        "\n",
        "temp = apartments_dict.copy()\n",
        "apartments_dict = {}\n",
        "\n",
        "for key, value in temp.items():\n",
        "  if (value not in apartments_dict.values()) and (value not in hospitals_dict.values()):\n",
        "    apartments_dict[key] = value"
      ],
      "execution_count": 0,
      "outputs": []
    },
    {
      "cell_type": "code",
      "metadata": {
        "id": "gD_cToBJRDpc",
        "colab_type": "code",
        "colab": {}
      },
      "source": [
        "M = 10\n",
        "N = 100\n",
        "\n",
        "hospitals_dict = dict(random.sample(list(hospitals_dict.items()), M))\n",
        "apartments_dict = dict(random.sample(list(apartments_dict.items()), N))"
      ],
      "execution_count": 0,
      "outputs": []
    },
    {
      "cell_type": "markdown",
      "metadata": {
        "id": "msV7zrCzEjkA",
        "colab_type": "text"
      },
      "source": [
        "Создадим несколько структур данных для работы впоследствии"
      ]
    },
    {
      "cell_type": "code",
      "metadata": {
        "id": "plK01wvsfd5f",
        "colab_type": "code",
        "colab": {}
      },
      "source": [
        "# Создаем словарь {id узла}: {его index в списке узлов} \n",
        "nodes_numbers = {}\n",
        "for index,i in enumerate(nodes_list):\n",
        "    nodes_numbers[i]=index "
      ],
      "execution_count": 0,
      "outputs": []
    },
    {
      "cell_type": "code",
      "metadata": {
        "id": "fwl4isNifd5j",
        "colab_type": "code",
        "colab": {}
      },
      "source": [
        "# делаем листы для использования Дейсктры \n",
        "hospital_values = list(hospitals_dict.values())\n",
        "apartments_values = list(apartments_dict.values())"
      ],
      "execution_count": 0,
      "outputs": []
    },
    {
      "cell_type": "code",
      "metadata": {
        "id": "EiPN_Nlsfd5l",
        "colab_type": "code",
        "colab": {}
      },
      "source": [
        "# создаем общий лист, чтобы сделать и дома, и больницы одновременно\n",
        "new_nodes = apartments_values + hospital_values\n",
        "new_nodes = np.array(new_nodes)"
      ],
      "execution_count": 0,
      "outputs": []
    },
    {
      "cell_type": "code",
      "metadata": {
        "id": "3OVV0WxKfd5p",
        "colab_type": "code",
        "colab": {}
      },
      "source": [
        "# матрица в которой будем хранить значения кратчайших путей\n",
        "short_path_matrix = np.zeros((len(new_nodes), len(new_nodes)))"
      ],
      "execution_count": 0,
      "outputs": []
    },
    {
      "cell_type": "code",
      "metadata": {
        "id": "32XLtQaEEDhF",
        "colab_type": "code",
        "colab": {}
      },
      "source": [
        "'''\n",
        "nodes_list - лист со всеми точками графа G\n",
        "nodes_numbers - {id узла}: {его index в списке узлов}\n",
        "\n",
        "hospitals_dict, apartments_dict - словари, ключ - точка из footsprint, значение - точка G\n",
        "hospital_values = list(hospitals_dict.values())\n",
        "apartments_values = list(apartments_dict.values())\n",
        "new_nodes = apartments_values + hospital_values\n",
        "\n",
        "'''"
      ],
      "execution_count": 0,
      "outputs": []
    },
    {
      "cell_type": "markdown",
      "metadata": {
        "id": "Or1hQHJHEup5",
        "colab_type": "text"
      },
      "source": [
        "Дейкстра, использующая кучу"
      ]
    },
    {
      "cell_type": "code",
      "metadata": {
        "id": "a5wvIczaub57",
        "colab_type": "code",
        "colab": {}
      },
      "source": [
        "from heapq import heappush, heappop\n",
        "\n",
        "def dijkstra_heap (G, source):\n",
        "    \n",
        "    G_succ = G._succ \n",
        "\n",
        "    push = heappush\n",
        "    pop = heappop\n",
        "    weight = lambda d: min(attr.get(weight, 1) for attr in d.values()) #понятия не имею что происходит в этой строчке увы\n",
        "\n",
        "    seen = {}  # минимальное расстояние до ключа-точки  \n",
        "    tree = {}\n",
        "    # fringe is heapq with 2-tuples (distance,node)\n",
        "    fringe = []\n",
        "\n",
        "    seen[source] = 0\n",
        "    push(fringe, (0, source, None))\n",
        "\n",
        "    while fringe:\n",
        "\n",
        "        (d, v, pred) = pop(fringe)\n",
        "\n",
        "        if v in tree:\n",
        "            continue  # already searched this node.\n",
        "\n",
        "        tree[v] = {}\n",
        "        tree[v]['node'] = v\n",
        "        tree[v]['dist'] = d\n",
        "      \n",
        "        if pred != None:\n",
        "\n",
        "          if len(tree[pred]['path']) > 0:\n",
        "            tree[v]['path'] = (tree[pred]['path']).copy()\n",
        "            tree[v]['path'].append(pred)      \n",
        "          else:\n",
        "            tree[v]['path'] = [pred]\n",
        "        else:\n",
        "          tree[source]['path'] = []\n",
        "\n",
        "        for u, e in G_succ[v].items():\n",
        "            cost = weight(e) #e - ребро (мультиграф же,значит их несколько, выбираем наименьший вес)\n",
        "\n",
        "            if cost is None: # видимо если ребра нет, возможно стоит заменить на бесконечное значение\n",
        "                continue\n",
        "\n",
        "            vu_dist = tree[v]['dist'] + cost\n",
        "             \n",
        "            if u not in seen or vu_dist < seen[u]: #если мы еще не искали путь до u или новое расстояние меньше найденного              \n",
        "                seen[u] = vu_dist\n",
        "                push(fringe, (vu_dist, u, v))\n",
        "    return tree"
      ],
      "execution_count": 0,
      "outputs": []
    },
    {
      "cell_type": "markdown",
      "metadata": {
        "id": "Bmxm9h7IE7o7",
        "colab_type": "text"
      },
      "source": [
        "Запуск Дейкстры\n",
        "\n"
      ]
    },
    {
      "cell_type": "code",
      "metadata": {
        "id": "MiYj34aV-mXq",
        "colab_type": "code",
        "colab": {}
      },
      "source": [
        "import time\n",
        "\n",
        "big_tree_dict = {}\n",
        "start = time.time()\n",
        "\n",
        "for i in range(len(new_nodes)):\n",
        "    tree = dijkstra_heap(G, new_nodes[i])\n",
        "    big_tree_dict[new_nodes[i]] = tree\n",
        "\n",
        "print(time.time() - start)"
      ],
      "execution_count": 0,
      "outputs": []
    },
    {
      "cell_type": "markdown",
      "metadata": {
        "id": "cd8r6wuShSXa",
        "colab_type": "text"
      },
      "source": [
        "Это дерево еще понадобится, так что я бы его куда-нибудь тоже скачала (хотя оно большое)\n",
        "\n",
        "---\n",
        "Я вроде записала (Оксана)\n"
      ]
    },
    {
      "cell_type": "code",
      "metadata": {
        "id": "xz2917qoEfqG",
        "colab_type": "code",
        "colab": {}
      },
      "source": [
        "with open('big_tree.csv', 'w') as f:\n",
        "    for key in big_tree_dict.keys():\n",
        "        f.write(\"%s,%s\\n\"%(key, big_tree_dict[key]))"
      ],
      "execution_count": 0,
      "outputs": []
    },
    {
      "cell_type": "markdown",
      "metadata": {
        "id": "kLm3Q9KCFyHU",
        "colab_type": "text"
      },
      "source": [
        "Уменьшаем дерево до точек N+M"
      ]
    },
    {
      "cell_type": "code",
      "metadata": {
        "id": "hIo5mzeMDy4o",
        "colab_type": "code",
        "colab": {}
      },
      "source": [
        "# удалим ненужные точки сделав из большого дерева кратчайших путей малое дерево мощности N+M\n",
        "\n",
        "small_tree_dict = big_tree_dict.copy()\n",
        "\n",
        "for tree_key, tree in big_tree_dict.items():\n",
        "\n",
        "  keys = list(tree.keys())\n",
        "  small_tree = tree.copy()\n",
        "\n",
        "  for key in keys:\n",
        "    if key not in new_nodes:\n",
        "      del small_tree[key]\n",
        "\n",
        "  keys = list(small_tree.keys())\n",
        "\n",
        "  for key in keys:\n",
        "    temp = small_tree[key]['path'].copy()\n",
        "    for el in temp:\n",
        "      if el not in new_nodes:\n",
        "        small_tree[key]['path'].remove(el)\n",
        "\n",
        "  small_tree_dict[tree_key] = small_tree"
      ],
      "execution_count": 0,
      "outputs": []
    },
    {
      "cell_type": "markdown",
      "metadata": {
        "id": "fUaz0A7wIYEp",
        "colab_type": "text"
      },
      "source": [
        "Матрица кратчайших путей для N+M точек"
      ]
    },
    {
      "cell_type": "code",
      "metadata": {
        "id": "pfGV1smm2-zV",
        "colab_type": "code",
        "colab": {}
      },
      "source": [
        "  for i in range(N+M):  \n",
        "    tree = small_tree_dict[new_nodes[i]]\n",
        "    for j in range(N+M): \n",
        "        short_path_matrix[i][j] = tree[new_nodes[j]]['dist']   "
      ],
      "execution_count": 0,
      "outputs": []
    },
    {
      "cell_type": "code",
      "metadata": {
        "id": "HRb1ndll40yQ",
        "colab_type": "code",
        "outputId": "20323fc9-4c8a-48fe-f6a7-373966d476fe",
        "colab": {
          "base_uri": "https://localhost:8080/",
          "height": 136
        }
      },
      "source": [
        " short_path_matrix"
      ],
      "execution_count": 0,
      "outputs": [
        {
          "output_type": "execute_result",
          "data": {
            "text/plain": [
              "array([[  0., 117., 106., ..., 120., 123., 133.],\n",
              "       [117.,   0., 185., ...,  30.,  33., 111.],\n",
              "       [107., 195.,   0., ..., 209., 212., 233.],\n",
              "       ...,\n",
              "       [113.,  31., 179., ...,   0.,   3., 126.],\n",
              "       [116.,  34., 182., ...,   3.,   0., 126.],\n",
              "       [115., 107., 215., ..., 121., 124.,   0.]])"
            ]
          },
          "metadata": {
            "tags": []
          },
          "execution_count": 198
        }
      ]
    },
    {
      "cell_type": "code",
      "metadata": {
        "id": "cHZkH0v9Pdrd",
        "colab_type": "code",
        "colab": {}
      },
      "source": [
        "# записываем матрицу кратчайших путей в csv\n",
        "with open('matrix_dijkstra.csv', \"w\", newline='') as csv_file:\n",
        "    writer = csv.writer(csv_file, delimiter=',')\n",
        "    for line in short_path_matrix:\n",
        "        writer.writerow(line)"
      ],
      "execution_count": 0,
      "outputs": []
    },
    {
      "cell_type": "code",
      "metadata": {
        "id": "oouB4bKVqGGX",
        "colab_type": "code",
        "colab": {}
      },
      "source": [
        "# ставим вместо 0 - 10**10\n",
        "for i in range(len(new_nodes)):\n",
        "    for j in range(len(new_nodes)):\n",
        "        if short_path_matrix[i][j] == 0:\n",
        "            short_path_matrix[i][j] = 10**10"
      ],
      "execution_count": 0,
      "outputs": []
    },
    {
      "cell_type": "markdown",
      "metadata": {
        "id": "bcL8zdIBI4OI",
        "colab_type": "text"
      },
      "source": [
        "Создадим лист смежности дерева для более удобного взаимодействия"
      ]
    },
    {
      "cell_type": "code",
      "metadata": {
        "id": "NwsRt7-STi9D",
        "colab_type": "code",
        "colab": {}
      },
      "source": [
        "small_tree_dict_adj = {}\n",
        "\n",
        "# беру пути до каждой точки и из них дерево в формате вершина: (ребенок, длина ребра)\n",
        "for root, tree in  tree_dict.items():\n",
        "\n",
        "  seen = {}\n",
        "  new_tree = {}\n",
        "\n",
        "  for node in tree:\n",
        "    new_tree[node] = []\n",
        "\n",
        "  for node in tree:\n",
        "\n",
        "    if node in seen:\n",
        "      continue\n",
        "\n",
        "    seen[node] = 1\n",
        "    #path = tree[node]['path']\n",
        "    path = tree[node]['path']\n",
        "\n",
        "    for i in range(1,len(path)):\n",
        "      if path[i] in seen:\n",
        "        continue\n",
        "      seen[path[i]] = 1\n",
        "      new_tree[path[i-1]].append((path[i], tree[path[i-1]]['dist'] - tree[path[i]]['dist']))\n",
        "\n",
        "    if(len(path) > 0):\n",
        "      new_tree[path[len(path) - 1]].append((node, tree[node]['dist'] - tree[path[len(path) - 1]]['dist']))\n",
        "\n",
        "    small_tree_dict_adj[root] = new_tree"
      ],
      "execution_count": 0,
      "outputs": []
    },
    {
      "cell_type": "markdown",
      "metadata": {
        "id": "rjKOokbcJm8x",
        "colab_type": "text"
      },
      "source": [
        "Матрицы смежности для разных узлов"
      ]
    },
    {
      "cell_type": "code",
      "metadata": {
        "id": "qkRcczJLXImS",
        "colab_type": "code",
        "colab": {}
      },
      "source": [
        "# сделать матрицу смежности из получившихся деревьев\n",
        "\n",
        "def make_adj_m (tree, nodes):\n",
        "  adjancecy_m = np.zeros((110, 110))\n",
        "  for node in nodes:\n",
        "    for child, dlina in tree[node]:\n",
        "      adjancecy_m[np.where(nodes == node)[0][0]][np.where(nodes == child)[0][0]] = dlina\n",
        "  return adjancecy_m"
      ],
      "execution_count": 0,
      "outputs": []
    },
    {
      "cell_type": "code",
      "metadata": {
        "id": "XZ-vhzNMYEiQ",
        "colab_type": "code",
        "colab": {}
      },
      "source": [
        "# можно сделать и скачать все матрицы смежности\n",
        "\n",
        "adjancecy_m_dict = {}\n",
        "\n",
        "for node in new_nodes:\n",
        "  tree = tree_dict[node]\n",
        "  adjancecy_m = make_adj_m (tree, new_nodes)\n",
        "  adjancecy_m_dict[node] = adjancecy_m.copy()\n",
        "  adjancecy_m_pd = pd.DataFrame(data = adjancecy_m, index = new_nodes, columns = new_nodes)\n",
        "  #adjancecy_m_pd.to_csv('adjancecy_m_'+str(new_nodes[100])) #не хочу качать сейчас\n"
      ],
      "execution_count": 0,
      "outputs": []
    },
    {
      "cell_type": "markdown",
      "metadata": {
        "id": "9ZRIVuDWKBUB",
        "colab_type": "text"
      },
      "source": [
        "**Визуализация** дерева кратчайших путей для точки 3448891642"
      ]
    },
    {
      "cell_type": "code",
      "metadata": {
        "id": "ZtxvZmrMavJ5",
        "colab_type": "code",
        "outputId": "a31d86c7-3d60-4e6b-9596-a9fc021e7dcf",
        "colab": {
          "base_uri": "https://localhost:8080/",
          "height": 319
        }
      },
      "source": [
        "small_adjancecy = adjancecy_m_dict[new_nodes[0]]\n",
        "\n",
        "new_G = nx.from_numpy_matrix(small_adjancecy, create_using = nx.DiGraph)\n",
        "\n",
        "# рисую граф\n",
        "from networkx.drawing.nx_pydot import graphviz_layout\n",
        "pos = graphviz_layout(new_G, prog='twopi')\n",
        "nx.draw(new_G, pos, node_size = 50, alpha = 0.7)"
      ],
      "execution_count": 0,
      "outputs": [
        {
          "output_type": "display_data",
          "data": {
            "image/png": "[encoded data removed]",
            "text/plain": [
              "<Figure size 432x288 with 1 Axes>"
            ]
          },
          "metadata": {
            "tags": []
          }
        }
      ]
    },
    {
      "cell_type": "markdown",
      "metadata": {
        "id": "ZoUjZy4KLBNz",
        "colab_type": "text"
      },
      "source": [
        "Нам нужен json?\n",
        "\n",
        "---\n",
        "Ну прост дерево выглядит нагляднее в json, чем в csv. Но если мы можем красиво записать в csv, то не нужен. **ЕЩЕ ВАЖНО** предлагаю как-нибудь скачать картинки деревьев в png/jpeg/etс, так удобнее будет показывать имхо (Оксана)\n"
      ]
    },
    {
      "cell_type": "code",
      "metadata": {
        "id": "-dVcDv-Afd59",
        "colab_type": "code",
        "colab": {}
      },
      "source": [
        " #пишем в json файл дерево кратчайших путей\n",
        " with open('short_path_tree.json', 'w') as f:\n",
        "     json.dump(tree_dict, f)"
      ],
      "execution_count": 0,
      "outputs": []
    },
    {
      "cell_type": "code",
      "metadata": {
        "id": "sXkYeHhfBITa",
        "colab_type": "code",
        "colab": {}
      },
      "source": [
        " with open('short_path_tree.json', 'r') as fr:\n",
        "     head = [next(fr) for _ in range(20)]\n",
        "     print(head)"
      ],
      "execution_count": 0,
      "outputs": []
    },
    {
      "cell_type": "code",
      "metadata": {
        "id": "-cL8009_fd6D",
        "colab_type": "code",
        "colab": {}
      },
      "source": [
        "# пишем в json все кратчайшие пути\n",
        "with open('short_paths.json', 'w') as f:\n",
        "    json.dump(short_paths, f)"
      ],
      "execution_count": 0,
      "outputs": []
    },
    {
      "cell_type": "markdown",
      "metadata": {
        "id": "sSURdqolLLji",
        "colab_type": "text"
      },
      "source": [
        "А это?\n",
        "\n",
        "---\n",
        "Если в твоих функциях дальше нигде не используется, то не нужно (Оксана)\n"
      ]
    },
    {
      "cell_type": "code",
      "metadata": {
        "id": "uiT7MyfAfd6G",
        "colab_type": "code",
        "colab": {}
      },
      "source": [
        "# получение ключа \n",
        "def get_key(d, value):\n",
        "    for k, v in d.items():\n",
        "        if v == value:\n",
        "            return k\n",
        "    return -1\n",
        "\n",
        "# получение айди\n",
        "def get_id(nodes_numbers, index_nodes, i):\n",
        "    temp = get_key(nodes_numbers, index_nodes[i])\n",
        "    if temp == -1:\n",
        "        return \"Не найдено id узла\"\n",
        "    else:\n",
        "        return temp"
      ],
      "execution_count": 0,
      "outputs": []
    },
    {
      "cell_type": "markdown",
      "metadata": {
        "id": "NhOqAssWC6G-",
        "colab_type": "text"
      },
      "source": [
        "Всякое разное (понадобится далее)"
      ]
    },
    {
      "cell_type": "code",
      "metadata": {
        "id": "Z4YnYJBUfd5H",
        "colab_type": "code",
        "outputId": "a601e18c-4859-4853-c530-06eae41375bc",
        "colab": {
          "base_uri": "https://localhost:8080/",
          "height": 609
        }
      },
      "source": [
        "# пример визуализации кратчайших путей (точки взяты из предыдущего пункта)\n",
        "route = nx.shortest_path(G,\n",
        "                         892683760,\n",
        "                         498826321, \n",
        "                         weight='length') \n",
        "\n",
        "ox.plot_graph_route(G, route, fig_height=10, fig_width=10)"
      ],
      "execution_count": 0,
      "outputs": [
        {
          "output_type": "display_data",
          "data": {
            "image/png": "[encoded data removed]",
            "text/plain": [
              "<Figure size 720x720 with 1 Axes>"
            ]
          },
          "metadata": {
            "tags": []
          }
        },
        {
          "output_type": "execute_result",
          "data": {
            "text/plain": [
              "(<Figure size 720x720 with 1 Axes>,\n",
              " <matplotlib.axes._subplots.AxesSubplot at 0x7f35bb997ef0>)"
            ]
          },
          "metadata": {
            "tags": []
          },
          "execution_count": 32
        }
      ]
    },
    {
      "cell_type": "markdown",
      "metadata": {
        "id": "F2Iwv9btfd6K",
        "colab_type": "text"
      },
      "source": [
        "### Первое задание."
      ]
    },
    {
      "cell_type": "code",
      "metadata": {
        "id": "8Z3NBUIqfd6L",
        "colab_type": "code",
        "colab": {}
      },
      "source": [
        "#from numpy import genfromtxt\n",
        "# считываем матрицу кратчайших расстояний из csv файла\n",
        "# data = genfromtxt('/content/matrix_dijkstra.csv', delimiter=',') \n",
        "\n",
        "# можно загрузить эту матрицу если она есть в оперативке\n",
        "data = short_path_matrix"
      ],
      "execution_count": 0,
      "outputs": []
    },
    {
      "cell_type": "markdown",
      "metadata": {
        "id": "Sst-KPTQfd6N",
        "colab_type": "text"
      },
      "source": [
        "### Пункт 1.а \n",
        "Для каждого дома определить ближайший от узла объект (путь “туда”), ближайший к объекту узел (путь “обратно”), объект, расстояние до которого и обратно минимально (“туда и обратно”)."
      ]
    },
    {
      "cell_type": "code",
      "metadata": {
        "id": "AC2oCNlHdszo",
        "colab_type": "code",
        "colab": {}
      },
      "source": [
        ""
      ],
      "execution_count": 0,
      "outputs": []
    },
    {
      "cell_type": "code",
      "metadata": {
        "id": "cY1Z4-Sqfd6N",
        "colab_type": "code",
        "colab": {}
      },
      "source": [
        "# функция нахождения ближайшей больницы\n",
        "def find_nearest_hospitals(dist_matrix, apart_count=100):\n",
        "    nearest_hosp_list = [[-1 for i in range(3)] for j in range(apart_count)]\n",
        "    for i in range(apart_count):\n",
        "        nearest_hosp_list[i][0] = np.argmin(dist_matrix[i][apart_count:]) + apart_count\n",
        "        nearest_hosp_list[i][1] = np.argmin(np.array(dist_matrix[apart_count:]).transpose()[i]) + apart_count\n",
        "        tuda = dist_matrix[i][apart_count:]\n",
        "        suda = np.array(dist_matrix[apart_count:]).transpose()[i]\n",
        "        nearest_hosp_list[i][2] = np.argmin(tuda + suda) + apart_count\n",
        "    return nearest_hosp_list"
      ],
      "execution_count": 0,
      "outputs": []
    },
    {
      "cell_type": "code",
      "metadata": {
        "id": "pe5_LJyhfd6Q",
        "colab_type": "code",
        "colab": {}
      },
      "source": [
        "# запуск программы\n",
        "find_nearest_hospitals(data)"
      ],
      "execution_count": 0,
      "outputs": []
    },
    {
      "cell_type": "code",
      "metadata": {
        "id": "lxcGnwTFbePG",
        "colab_type": "code",
        "colab": {}
      },
      "source": [
        "nearest_hosp_list = [[0 for i in range(3)] for j in range(M)]\n",
        "temp = short_path_matrix2.copy()\n",
        "for i in range(M+N):\n",
        "  if new_nodes[i] in apartments_dict:\n",
        "    for j in range(M+N):\n",
        "      if new_nodes[j] in apartments_dict:\n",
        "        temp[i][j] = 10**10\n",
        "\n",
        "for i in range(M):\n",
        "  node = apartments_values[i]\n",
        "  index = np.where(new_nodes == node)\n",
        "  # туда\n",
        "  nearest_hosp_list[i][0] = new_nodes[np.reshape(temp[index][:], 110).argmin()]\n",
        "  # обратно\n",
        "  nearest_hosp_list[i][1] = new_nodes[np.reshape(temp[:][index], 110).argmin()]\n",
        "  #туда и обратно\n",
        "  nearest_hosp_list[i][2] = new_nodes[(np.reshape(temp[index][:], 110) + \n",
        "                              np.reshape(temp[:][index], 110)).argmin()]\n",
        "                              "
      ],
      "execution_count": 0,
      "outputs": []
    },
    {
      "cell_type": "code",
      "metadata": {
        "id": "oVXkHz_bnd8Z",
        "colab_type": "code",
        "outputId": "79a33cd5-b004-499a-e1a1-18ec53badb66",
        "colab": {
          "base_uri": "https://localhost:8080/",
          "height": 163
        }
      },
      "source": [
        "nearest_hosp_list"
      ],
      "execution_count": 0,
      "outputs": [
        {
          "output_type": "error",
          "ename": "NameError",
          "evalue": "ignored",
          "traceback": [
            "\u001b[0;31m---------------------------------------------------------------------------\u001b[0m",
            "\u001b[0;31mNameError\u001b[0m                                 Traceback (most recent call last)",
            "\u001b[0;32m<ipython-input-28-c97944f16b23>\u001b[0m in \u001b[0;36m<module>\u001b[0;34m()\u001b[0m\n\u001b[0;32m----> 1\u001b[0;31m \u001b[0mnearest_hosp_list\u001b[0m\u001b[0;34m.\u001b[0m\u001b[0madj\u001b[0m\u001b[0;34m\u001b[0m\u001b[0;34m\u001b[0m\u001b[0m\n\u001b[0m",
            "\u001b[0;31mNameError\u001b[0m: name 'nearest_hosp_list' is not defined"
          ]
        }
      ]
    },
    {
      "cell_type": "code",
      "metadata": {
        "id": "Zm9kAHNwiHeZ",
        "colab_type": "code",
        "outputId": "342b2292-4d1a-4a01-f530-3fa71ceb80ee",
        "colab": {
          "base_uri": "https://localhost:8080/",
          "height": 34
        }
      },
      "source": [
        "apartments_values[0]"
      ],
      "execution_count": 0,
      "outputs": [
        {
          "output_type": "execute_result",
          "data": {
            "text/plain": [
              "3448891642"
            ]
          },
          "metadata": {
            "tags": []
          },
          "execution_count": 29
        }
      ]
    },
    {
      "cell_type": "code",
      "metadata": {
        "id": "NI1f0ffbkKF-",
        "colab_type": "code",
        "outputId": "57d29897-33ec-4631-d038-6eef42ee599f",
        "colab": {
          "base_uri": "https://localhost:8080/",
          "height": 54
        }
      },
      "source": [
        "G.succ[apartments_values[0]]"
      ],
      "execution_count": 0,
      "outputs": [
        {
          "output_type": "execute_result",
          "data": {
            "text/plain": [
              "AdjacencyView({3448891645: {0: {'osmid': 315722456, 'name': 'Пришкольная улица', 'highway': 'residential', 'oneway': False, 'length': 62.483}}, 3448891641: {0: {'osmid': 315722456, 'name': 'Пришкольная улица', 'highway': 'residential', 'oneway': False, 'length': 1.733}}})"
            ]
          },
          "metadata": {
            "tags": []
          },
          "execution_count": 30
        }
      ]
    },
    {
      "cell_type": "code",
      "metadata": {
        "id": "uS5hMIS0ipcG",
        "colab_type": "code",
        "colab": {}
      },
      "source": [
        "lambda d: min(attr.get(weight, 1) for attr in d.values())"
      ],
      "execution_count": 0,
      "outputs": []
    },
    {
      "cell_type": "code",
      "metadata": {
        "id": "erFMLWfvhfYd",
        "colab_type": "code",
        "outputId": "d3e87c45-34fe-48ec-aaf2-95428389b85f",
        "colab": {
          "base_uri": "https://localhost:8080/",
          "height": 898
        }
      },
      "source": [
        "# пример визуализации кратчайших путей (точки взяты из предыдущего пункта)\n",
        "e = apartments_values[0].Succ.values()\n",
        "route = min(attr.get(weight, 1) for attr in e.values())\n",
        "ox.plot_graph_route(G, [315722456], fig_height=10, fig_width=10)"
      ],
      "execution_count": 0,
      "outputs": [
        {
          "output_type": "error",
          "ename": "KeyError",
          "evalue": "ignored",
          "traceback": [
            "\u001b[0;31m---------------------------------------------------------------------------\u001b[0m",
            "\u001b[0;31mKeyError\u001b[0m                                  Traceback (most recent call last)",
            "\u001b[0;32m<ipython-input-34-75e97a343bf2>\u001b[0m in \u001b[0;36m<module>\u001b[0;34m()\u001b[0m\n\u001b[1;32m      2\u001b[0m \u001b[0;31m#e = apartments_values[0].Succ.values()\u001b[0m\u001b[0;34m\u001b[0m\u001b[0;34m\u001b[0m\u001b[0;34m\u001b[0m\u001b[0m\n\u001b[1;32m      3\u001b[0m \u001b[0;31m#route = min(attr.get(weight, 1) for attr in e.values())\u001b[0m\u001b[0;34m\u001b[0m\u001b[0;34m\u001b[0m\u001b[0;34m\u001b[0m\u001b[0m\n\u001b[0;32m----> 4\u001b[0;31m \u001b[0mox\u001b[0m\u001b[0;34m.\u001b[0m\u001b[0mplot_graph_route\u001b[0m\u001b[0;34m(\u001b[0m\u001b[0mG\u001b[0m\u001b[0;34m,\u001b[0m \u001b[0;34m[\u001b[0m\u001b[0;36m315722456\u001b[0m\u001b[0;34m]\u001b[0m\u001b[0;34m,\u001b[0m \u001b[0mfig_height\u001b[0m\u001b[0;34m=\u001b[0m\u001b[0;36m10\u001b[0m\u001b[0;34m,\u001b[0m \u001b[0mfig_width\u001b[0m\u001b[0;34m=\u001b[0m\u001b[0;36m10\u001b[0m\u001b[0;34m)\u001b[0m\u001b[0;34m\u001b[0m\u001b[0;34m\u001b[0m\u001b[0m\n\u001b[0m",
            "\u001b[0;32m/usr/local/lib/python3.6/dist-packages/osmnx/plot.py\u001b[0m in \u001b[0;36mplot_graph_route\u001b[0;34m(G, route, bbox, fig_height, fig_width, margin, bgcolor, axis_off, show, save, close, file_format, filename, dpi, annotate, node_color, node_size, node_alpha, node_edgecolor, node_zorder, edge_color, edge_linewidth, edge_alpha, use_geom, origin_point, destination_point, route_color, route_linewidth, route_alpha, orig_dest_node_alpha, orig_dest_node_size, orig_dest_node_color, orig_dest_point_color)\u001b[0m\n\u001b[1;32m    682\u001b[0m         \u001b[0;31m# if caller didn't pass points, use the first and last node in route as\u001b[0m\u001b[0;34m\u001b[0m\u001b[0;34m\u001b[0m\u001b[0;34m\u001b[0m\u001b[0m\n\u001b[1;32m    683\u001b[0m         \u001b[0;31m# origin/destination\u001b[0m\u001b[0;34m\u001b[0m\u001b[0;34m\u001b[0m\u001b[0;34m\u001b[0m\u001b[0m\n\u001b[0;32m--> 684\u001b[0;31m         \u001b[0morigin_destination_lats\u001b[0m \u001b[0;34m=\u001b[0m \u001b[0;34m(\u001b[0m\u001b[0mG\u001b[0m\u001b[0;34m.\u001b[0m\u001b[0mnodes\u001b[0m\u001b[0;34m[\u001b[0m\u001b[0morigin_node\u001b[0m\u001b[0;34m]\u001b[0m\u001b[0;34m[\u001b[0m\u001b[0;34m\"y\"\u001b[0m\u001b[0;34m]\u001b[0m\u001b[0;34m,\u001b[0m \u001b[0mG\u001b[0m\u001b[0;34m.\u001b[0m\u001b[0mnodes\u001b[0m\u001b[0;34m[\u001b[0m\u001b[0mdestination_node\u001b[0m\u001b[0;34m]\u001b[0m\u001b[0;34m[\u001b[0m\u001b[0;34m\"y\"\u001b[0m\u001b[0;34m]\u001b[0m\u001b[0;34m)\u001b[0m\u001b[0;34m\u001b[0m\u001b[0;34m\u001b[0m\u001b[0m\n\u001b[0m\u001b[1;32m    685\u001b[0m         \u001b[0morigin_destination_lons\u001b[0m \u001b[0;34m=\u001b[0m \u001b[0;34m(\u001b[0m\u001b[0mG\u001b[0m\u001b[0;34m.\u001b[0m\u001b[0mnodes\u001b[0m\u001b[0;34m[\u001b[0m\u001b[0morigin_node\u001b[0m\u001b[0;34m]\u001b[0m\u001b[0;34m[\u001b[0m\u001b[0;34m\"x\"\u001b[0m\u001b[0;34m]\u001b[0m\u001b[0;34m,\u001b[0m \u001b[0mG\u001b[0m\u001b[0;34m.\u001b[0m\u001b[0mnodes\u001b[0m\u001b[0;34m[\u001b[0m\u001b[0mdestination_node\u001b[0m\u001b[0;34m]\u001b[0m\u001b[0;34m[\u001b[0m\u001b[0;34m\"x\"\u001b[0m\u001b[0;34m]\u001b[0m\u001b[0;34m)\u001b[0m\u001b[0;34m\u001b[0m\u001b[0;34m\u001b[0m\u001b[0m\n\u001b[1;32m    686\u001b[0m     \u001b[0;32melse\u001b[0m\u001b[0;34m:\u001b[0m\u001b[0;34m\u001b[0m\u001b[0;34m\u001b[0m\u001b[0m\n",
            "\u001b[0;32m/usr/local/lib/python3.6/dist-packages/networkx/classes/reportviews.py\u001b[0m in \u001b[0;36m__getitem__\u001b[0;34m(self, n)\u001b[0m\n\u001b[1;32m    176\u001b[0m \u001b[0;34m\u001b[0m\u001b[0m\n\u001b[1;32m    177\u001b[0m     \u001b[0;32mdef\u001b[0m \u001b[0m__getitem__\u001b[0m\u001b[0;34m(\u001b[0m\u001b[0mself\u001b[0m\u001b[0;34m,\u001b[0m \u001b[0mn\u001b[0m\u001b[0;34m)\u001b[0m\u001b[0;34m:\u001b[0m\u001b[0;34m\u001b[0m\u001b[0;34m\u001b[0m\u001b[0m\n\u001b[0;32m--> 178\u001b[0;31m         \u001b[0;32mreturn\u001b[0m \u001b[0mself\u001b[0m\u001b[0;34m.\u001b[0m\u001b[0m_nodes\u001b[0m\u001b[0;34m[\u001b[0m\u001b[0mn\u001b[0m\u001b[0;34m]\u001b[0m\u001b[0;34m\u001b[0m\u001b[0;34m\u001b[0m\u001b[0m\n\u001b[0m\u001b[1;32m    179\u001b[0m \u001b[0;34m\u001b[0m\u001b[0m\n\u001b[1;32m    180\u001b[0m     \u001b[0;31m# Set methods\u001b[0m\u001b[0;34m\u001b[0m\u001b[0;34m\u001b[0m\u001b[0;34m\u001b[0m\u001b[0m\n",
            "\u001b[0;31mKeyError\u001b[0m: 315722456"
          ]
        },
        {
          "output_type": "display_data",
          "data": {
            "image/png": "[encoded data removed]",
            "text/plain": [
              "<Figure size 720x720 with 1 Axes>"
            ]
          },
          "metadata": {
            "tags": []
          }
        }
      ]
    },
    {
      "cell_type": "markdown",
      "metadata": {
        "id": "-xRyvR5Jfd6U",
        "colab_type": "text"
      },
      "source": [
        "### Пункт 1.b\n",
        "Для каждого дома определить объекты, расположенные не далее, чем в X км для каждого из трех вариантов “туда”, “обратно”, “туда и обратно”."
      ]
    },
    {
      "cell_type": "code",
      "metadata": {
        "id": "Fzl3hqxKfd6V",
        "colab_type": "code",
        "colab": {}
      },
      "source": [
        "# возвращаемый список содержит списки с 3-мя списками индексов подходящих объектов: \"туда\", \"обратно\" и \"туда и обратно\" \n",
        "# содержат своё количество индексов - это списки второго уровня,индекс списка первого уровня соответствует индексу дома во входной матрице расстояний. \n",
        "def find_in_radius(dist_matrix, radius, apart_count=100):\n",
        "    permissible_hosps = [[[] for i in range(3)] for j in range(apart_count)]\n",
        "    for i in range(apart_count):\n",
        "        for j in range(apart_count, len(dist_matrix)):\n",
        "            if dist_matrix[i][j] <= radius:\n",
        "                permissible_hosps[i][0].append(j)\n",
        "            if dist_matrix[j][i] <= radius:\n",
        "                permissible_hosps[i][1].append(j)\n",
        "            if dist_matrix[i][j] + dist_matrix[j][i] <= radius:\n",
        "                permissible_hosps[i][2].append(j)\n",
        "    return permissible_hosps"
      ],
      "execution_count": 0,
      "outputs": []
    },
    {
      "cell_type": "code",
      "metadata": {
        "id": "DPiw-T5Kfd6X",
        "colab_type": "code",
        "colab": {}
      },
      "source": [
        "# запуск программы, radius произвольный\n",
        "radius = 500\n",
        "find_in_radius(temp, radius)"
      ],
      "execution_count": 0,
      "outputs": []
    },
    {
      "cell_type": "markdown",
      "metadata": {
        "id": "BxMVim3Zfd6a",
        "colab_type": "text"
      },
      "source": [
        "### Пункт 2\n",
        "Определить, какой из объектов расположен так, что расстояние между ним и самым дальним домом минимально (“туда”, “обратно”, “туда и обратно”)."
      ]
    },
    {
      "cell_type": "code",
      "metadata": {
        "id": "PxrH6kuUfd6b",
        "colab_type": "code",
        "colab": {}
      },
      "source": [
        "# возвращаемый список содержит три больницы - [ \"туда\", \"обратно\", \"туда и обратно\" ], где \"туда\" – из дома в больницу\n",
        "def get_optimal_hospitals(dist_matrix, apart_count=100):\n",
        "    optimal_hosps = []\n",
        "    tuda = np.array(dist_matrix[:apart_count]).transpose()[apart_count:]\n",
        "    optimal_hosps.append(np.argmin(np.amax(tuda, 1)) + apart_count)\n",
        "    suda = np.array(dist_matrix[apart_count:])[:, :apart_count]\n",
        "    optimal_hosps.append(np.argmin(np.amax(suda, 1)) + apart_count)\n",
        "    tuda_suda = tuda + suda\n",
        "    optimal_hosps.append(np.argmin(np.amax(tuda_suda, 1)) + apart_count)\n",
        "    return optimal_hosps"
      ],
      "execution_count": 0,
      "outputs": []
    },
    {
      "cell_type": "code",
      "metadata": {
        "id": "jpYYnUpXfd6d",
        "colab_type": "code",
        "outputId": "7fd9ed72-54bc-4fa7-f713-b5b4f5461804",
        "colab": {
          "base_uri": "https://localhost:8080/",
          "height": 34
        }
      },
      "source": [
        "# запуск программы\n",
        "opt = get_optimal_hospitals(temp)\n",
        "print(opt)"
      ],
      "execution_count": 0,
      "outputs": [
        {
          "output_type": "stream",
          "text": [
            "[105, 105, 105]\n"
          ],
          "name": "stdout"
        }
      ]
    },
    {
      "cell_type": "markdown",
      "metadata": {
        "id": "TVAxJHy2fd6g",
        "colab_type": "text"
      },
      "source": [
        "### Пункт 3\n",
        "\n",
        "Определить, для какого объекта инфраструктуры сумма кратчайших расстояний от него до всех домов минимальна."
      ]
    },
    {
      "cell_type": "code",
      "metadata": {
        "id": "-xW-ynoKfd6h",
        "colab_type": "code",
        "colab": {}
      },
      "source": [
        "# возвращает id больницы\n",
        "def min_sum_hosp(dist_matrix, apart_count=100):\n",
        "    dist_sums = np.array(dist_matrix[apart_count:])[:, :apart_count]\n",
        "    dist_sums = np.sum(dist_sums, 1)\n",
        "    min_hosp = np.argmin(dist_sums) + apart_count\n",
        "    hosp_id = get_id(nodes_numbers, index_nodes, min_hosp)\n",
        "    return hosp_id"
      ],
      "execution_count": 0,
      "outputs": []
    },
    {
      "cell_type": "code",
      "metadata": {
        "id": "5GK0eQY-fd6j",
        "colab_type": "code",
        "outputId": "ab331360-970b-408f-8699-a236df4868e8",
        "colab": {
          "base_uri": "https://localhost:8080/",
          "height": 282
        }
      },
      "source": [
        "# запуск программы\n",
        "min_hosp_id = min_sum_hosp(data)"
      ],
      "execution_count": 0,
      "outputs": [
        {
          "output_type": "error",
          "ename": "NameError",
          "evalue": "ignored",
          "traceback": [
            "\u001b[0;31m---------------------------------------------------------------------------\u001b[0m",
            "\u001b[0;31mNameError\u001b[0m                                 Traceback (most recent call last)",
            "\u001b[0;32m<ipython-input-270-6f6f1b8b92c8>\u001b[0m in \u001b[0;36m<module>\u001b[0;34m()\u001b[0m\n\u001b[1;32m      1\u001b[0m \u001b[0;31m# запуск программы\u001b[0m\u001b[0;34m\u001b[0m\u001b[0;34m\u001b[0m\u001b[0;34m\u001b[0m\u001b[0m\n\u001b[0;32m----> 2\u001b[0;31m \u001b[0mmin_hosp_id\u001b[0m \u001b[0;34m=\u001b[0m \u001b[0mmin_sum_hosp\u001b[0m\u001b[0;34m(\u001b[0m\u001b[0mtemp\u001b[0m\u001b[0;34m)\u001b[0m\u001b[0;34m\u001b[0m\u001b[0;34m\u001b[0m\u001b[0m\n\u001b[0m",
            "\u001b[0;32m<ipython-input-268-e15be0aa9ba1>\u001b[0m in \u001b[0;36mmin_sum_hosp\u001b[0;34m(dist_matrix, apart_count)\u001b[0m\n\u001b[1;32m      4\u001b[0m     \u001b[0mdist_sums\u001b[0m \u001b[0;34m=\u001b[0m \u001b[0mnp\u001b[0m\u001b[0;34m.\u001b[0m\u001b[0msum\u001b[0m\u001b[0;34m(\u001b[0m\u001b[0mdist_sums\u001b[0m\u001b[0;34m,\u001b[0m \u001b[0;36m1\u001b[0m\u001b[0;34m)\u001b[0m\u001b[0;34m\u001b[0m\u001b[0;34m\u001b[0m\u001b[0m\n\u001b[1;32m      5\u001b[0m     \u001b[0mmin_hosp\u001b[0m \u001b[0;34m=\u001b[0m \u001b[0mnp\u001b[0m\u001b[0;34m.\u001b[0m\u001b[0margmin\u001b[0m\u001b[0;34m(\u001b[0m\u001b[0mdist_sums\u001b[0m\u001b[0;34m)\u001b[0m \u001b[0;34m+\u001b[0m \u001b[0mapart_count\u001b[0m\u001b[0;34m\u001b[0m\u001b[0;34m\u001b[0m\u001b[0m\n\u001b[0;32m----> 6\u001b[0;31m     \u001b[0mhosp_id\u001b[0m \u001b[0;34m=\u001b[0m \u001b[0mget_id\u001b[0m\u001b[0;34m(\u001b[0m\u001b[0mnodes_numbers\u001b[0m\u001b[0;34m,\u001b[0m \u001b[0mindex_nodes\u001b[0m\u001b[0;34m,\u001b[0m \u001b[0mmin_hosp\u001b[0m\u001b[0;34m)\u001b[0m\u001b[0;34m\u001b[0m\u001b[0;34m\u001b[0m\u001b[0m\n\u001b[0m\u001b[1;32m      7\u001b[0m     \u001b[0;32mreturn\u001b[0m \u001b[0mhosp_id\u001b[0m\u001b[0;34m\u001b[0m\u001b[0;34m\u001b[0m\u001b[0m\n",
            "\u001b[0;31mNameError\u001b[0m: name 'get_id' is not defined"
          ]
        }
      ]
    },
    {
      "cell_type": "markdown",
      "metadata": {
        "id": "M7ZP4gtzfd6n",
        "colab_type": "text"
      },
      "source": [
        "### Пункт 4\n",
        "Определить, для какого объекта инфраструктуры построенное дерево кратчайших путей имеет минимальный вес."
      ]
    },
    {
      "cell_type": "code",
      "metadata": {
        "id": "ZGcywFBPfd6n",
        "colab_type": "code",
        "colab": {}
      },
      "source": [
        "# считаем вес дерева кратчаших путей\n",
        "def tree_weight(tree, root, matrix):\n",
        "    weight = 0\n",
        "    for i in tree[root].keys():\n",
        "        j = tree[root][i]\n",
        "        weight += matrix[j][i]\n",
        "    return weight\n",
        "\n",
        "# нахождение дерева минимального веса, где корни - больницы\n",
        "def minimal_tree_hospitals(tree, matrix, hospitals):\n",
        "    min_value = 10**10\n",
        "    root = 0\n",
        "    for i in hospitals:\n",
        "        temp = tree_weight(tree, str(i), matrix)\n",
        "        print(i, temp)\n",
        "        if temp < min_value:\n",
        "            min_value = temp\n",
        "            root = i\n",
        "    return root"
      ],
      "execution_count": 0,
      "outputs": []
    },
    {
      "cell_type": "code",
      "metadata": {
        "id": "A2GX_lCIfd6q",
        "colab_type": "code",
        "outputId": "9aa07ce5-c705-4657-8446-b0b18d47fbb5",
        "colab": {
          "base_uri": "https://localhost:8080/",
          "height": 357
        }
      },
      "source": [
        "# загружаем наши деревья кратчайших путей\n",
        "with open('short_path_tree.json') as f:\n",
        "    short_path_tree = json.load(f)\n",
        "\n",
        "# берем список деревьев (они в конце index_nodes, поэтому берем последние 10)\n",
        "hospitals = index_nodes[:-10]\n",
        "\n",
        "# ищем номер корня дерева минимального веса из больниц\n",
        "min_tree_root = minimal_tree_hospitals(short_path_tree, data, hospitals)\n",
        "hosp_id = get_id(nodes_numbers, index_nodes, min_tree_root)"
      ],
      "execution_count": 0,
      "outputs": [
        {
          "output_type": "error",
          "ename": "KeyError",
          "evalue": "ignored",
          "traceback": [
            "\u001b[0;31m---------------------------------------------------------------------------\u001b[0m",
            "\u001b[0;31mKeyError\u001b[0m                                  Traceback (most recent call last)",
            "\u001b[0;32m<ipython-input-25-48bb8e930542>\u001b[0m in \u001b[0;36m<module>\u001b[0;34m()\u001b[0m\n\u001b[1;32m      7\u001b[0m \u001b[0;34m\u001b[0m\u001b[0m\n\u001b[1;32m      8\u001b[0m \u001b[0;31m# ищем номер корня дерева минимального веса из больниц\u001b[0m\u001b[0;34m\u001b[0m\u001b[0;34m\u001b[0m\u001b[0;34m\u001b[0m\u001b[0m\n\u001b[0;32m----> 9\u001b[0;31m \u001b[0mmin_tree_root\u001b[0m \u001b[0;34m=\u001b[0m \u001b[0mminimal_tree_hospitals\u001b[0m\u001b[0;34m(\u001b[0m\u001b[0mshort_path_tree\u001b[0m\u001b[0;34m,\u001b[0m \u001b[0mdata\u001b[0m\u001b[0;34m,\u001b[0m \u001b[0mhospitals\u001b[0m\u001b[0;34m)\u001b[0m\u001b[0;34m\u001b[0m\u001b[0;34m\u001b[0m\u001b[0m\n\u001b[0m\u001b[1;32m     10\u001b[0m \u001b[0mhosp_id\u001b[0m \u001b[0;34m=\u001b[0m \u001b[0mget_id\u001b[0m\u001b[0;34m(\u001b[0m\u001b[0mnodes_numbers\u001b[0m\u001b[0;34m,\u001b[0m \u001b[0mindex_nodes\u001b[0m\u001b[0;34m,\u001b[0m \u001b[0mmin_tree_root\u001b[0m\u001b[0;34m)\u001b[0m\u001b[0;34m\u001b[0m\u001b[0;34m\u001b[0m\u001b[0m\n",
            "\u001b[0;32m<ipython-input-20-4ca390b3c062>\u001b[0m in \u001b[0;36mminimal_tree_hospitals\u001b[0;34m(tree, matrix, hospitals)\u001b[0m\n\u001b[1;32m     12\u001b[0m     \u001b[0mroot\u001b[0m \u001b[0;34m=\u001b[0m \u001b[0;36m0\u001b[0m\u001b[0;34m\u001b[0m\u001b[0;34m\u001b[0m\u001b[0m\n\u001b[1;32m     13\u001b[0m     \u001b[0;32mfor\u001b[0m \u001b[0mi\u001b[0m \u001b[0;32min\u001b[0m \u001b[0mhospitals\u001b[0m\u001b[0;34m:\u001b[0m\u001b[0;34m\u001b[0m\u001b[0;34m\u001b[0m\u001b[0m\n\u001b[0;32m---> 14\u001b[0;31m         \u001b[0mtemp\u001b[0m \u001b[0;34m=\u001b[0m \u001b[0mtree_weight\u001b[0m\u001b[0;34m(\u001b[0m\u001b[0mtree\u001b[0m\u001b[0;34m,\u001b[0m \u001b[0mstr\u001b[0m\u001b[0;34m(\u001b[0m\u001b[0mi\u001b[0m\u001b[0;34m)\u001b[0m\u001b[0;34m,\u001b[0m \u001b[0mmatrix\u001b[0m\u001b[0;34m)\u001b[0m\u001b[0;34m\u001b[0m\u001b[0;34m\u001b[0m\u001b[0m\n\u001b[0m\u001b[1;32m     15\u001b[0m         \u001b[0mprint\u001b[0m\u001b[0;34m(\u001b[0m\u001b[0mi\u001b[0m\u001b[0;34m,\u001b[0m \u001b[0mtemp\u001b[0m\u001b[0;34m)\u001b[0m\u001b[0;34m\u001b[0m\u001b[0;34m\u001b[0m\u001b[0m\n\u001b[1;32m     16\u001b[0m         \u001b[0;32mif\u001b[0m \u001b[0mtemp\u001b[0m \u001b[0;34m<\u001b[0m \u001b[0mmin_value\u001b[0m\u001b[0;34m:\u001b[0m\u001b[0;34m\u001b[0m\u001b[0;34m\u001b[0m\u001b[0m\n",
            "\u001b[0;32m<ipython-input-20-4ca390b3c062>\u001b[0m in \u001b[0;36mtree_weight\u001b[0;34m(tree, root, matrix)\u001b[0m\n\u001b[1;32m      2\u001b[0m \u001b[0;32mdef\u001b[0m \u001b[0mtree_weight\u001b[0m\u001b[0;34m(\u001b[0m\u001b[0mtree\u001b[0m\u001b[0;34m,\u001b[0m \u001b[0mroot\u001b[0m\u001b[0;34m,\u001b[0m \u001b[0mmatrix\u001b[0m\u001b[0;34m)\u001b[0m\u001b[0;34m:\u001b[0m\u001b[0;34m\u001b[0m\u001b[0;34m\u001b[0m\u001b[0m\n\u001b[1;32m      3\u001b[0m     \u001b[0mweight\u001b[0m \u001b[0;34m=\u001b[0m \u001b[0;36m0\u001b[0m\u001b[0;34m\u001b[0m\u001b[0;34m\u001b[0m\u001b[0m\n\u001b[0;32m----> 4\u001b[0;31m     \u001b[0;32mfor\u001b[0m \u001b[0mi\u001b[0m \u001b[0;32min\u001b[0m \u001b[0mtree\u001b[0m\u001b[0;34m[\u001b[0m\u001b[0mroot\u001b[0m\u001b[0;34m]\u001b[0m\u001b[0;34m.\u001b[0m\u001b[0mkeys\u001b[0m\u001b[0;34m(\u001b[0m\u001b[0;34m)\u001b[0m\u001b[0;34m:\u001b[0m\u001b[0;34m\u001b[0m\u001b[0;34m\u001b[0m\u001b[0m\n\u001b[0m\u001b[1;32m      5\u001b[0m         \u001b[0mj\u001b[0m \u001b[0;34m=\u001b[0m \u001b[0mtree\u001b[0m\u001b[0;34m[\u001b[0m\u001b[0mroot\u001b[0m\u001b[0;34m]\u001b[0m\u001b[0;34m[\u001b[0m\u001b[0mi\u001b[0m\u001b[0;34m]\u001b[0m\u001b[0;34m\u001b[0m\u001b[0;34m\u001b[0m\u001b[0m\n\u001b[1;32m      6\u001b[0m         \u001b[0mweight\u001b[0m \u001b[0;34m+=\u001b[0m \u001b[0mmatrix\u001b[0m\u001b[0;34m[\u001b[0m\u001b[0mj\u001b[0m\u001b[0;34m]\u001b[0m\u001b[0;34m[\u001b[0m\u001b[0mi\u001b[0m\u001b[0;34m]\u001b[0m\u001b[0;34m\u001b[0m\u001b[0;34m\u001b[0m\u001b[0m\n",
            "\u001b[0;31mKeyError\u001b[0m: '4512'"
          ]
        }
      ]
    },
    {
      "cell_type": "markdown",
      "metadata": {
        "id": "dx4Bqfd9ubYP",
        "colab_type": "text"
      },
      "source": [
        "### Второе задание.\n",
        "На карте случайным образом выбраны N узлов (домов) и один из объектов инфраструктуры."
      ]
    },
    {
      "cell_type": "markdown",
      "metadata": {
        "id": "VWtx7FvFupE_",
        "colab_type": "text"
      },
      "source": [
        "### Пункт 1\n",
        "Построить дерево кратчайших путей от объекта до выбранных узлов. Вычислить общую длину дерева, а также сумму кратчайших расстояний от объекта до всех заданных узлов."
      ]
    },
    {
      "cell_type": "code",
      "metadata": {
        "id": "Ek-vra0qXFcu",
        "colab_type": "code",
        "outputId": "9236968c-6337-4a46-956d-54a31a0318da",
        "colab": {
          "base_uri": "https://localhost:8080/",
          "height": 54
        }
      },
      "source": [
        "print(hospitals_dict)"
      ],
      "execution_count": 0,
      "outputs": [
        {
          "output_type": "stream",
          "text": [
            "{87989951: 1338629556, 89665027: 1237275182, 89665061: 7512139535, 91695664: 2334187973, 91695726: 1388755403, 95408851: 826163319, 95408853: 826163319, 95408906: 1237275154, 95408978: 7512139535, 96550316: 1118418017}\n"
          ],
          "name": "stdout"
        }
      ]
    },
    {
      "cell_type": "code",
      "metadata": {
        "id": "BK5P3f10uoNb",
        "colab_type": "code",
        "outputId": "08faab20-ebd8-4c16-a7a3-97b7b736376b",
        "colab": {
          "base_uri": "https://localhost:8080/",
          "height": 34
        }
      },
      "source": [
        "choosen_hospital = {}\n",
        "# просто выбираем рандомную больницу из hospitals_dict (я выбрала третью)\n",
        "choosen_hospital = {89665061: 7512139535}\n",
        "print(choosen_hospital)"
      ],
      "execution_count": 0,
      "outputs": [
        {
          "output_type": "stream",
          "text": [
            "{89665061: 7512139535}\n"
          ],
          "name": "stdout"
        }
      ]
    },
    {
      "cell_type": "code",
      "metadata": {
        "id": "LDbAxcZ9Q3GM",
        "colab_type": "code",
        "colab": {}
      },
      "source": [
        "# тут дейкстра которая проходит только по апартаментам, без больниц\n"
      ],
      "execution_count": 0,
      "outputs": []
    },
    {
      "cell_type": "code",
      "metadata": {
        "id": "mNjZO3pPNPpx",
        "colab_type": "code",
        "colab": {}
      },
      "source": [
        "distance_choosen = []\n",
        "pred_choosen = {}\n",
        "tree_choosen = {}\n",
        "index = 7512139535\n",
        "tree_choosen = dijkstra_heap(G, index)\n"
      ],
      "execution_count": 0,
      "outputs": []
    },
    {
      "cell_type": "markdown",
      "metadata": {
        "id": "YCdP9G0VJVrO",
        "colab_type": "text"
      },
      "source": [
        "### Пункт 2\n",
        "Разбить выбранные узлы на кластеры, используя метод полной связи (сomplete-linkage clustering). Построить дендрограмму разбиения узлов."
      ]
    },
    {
      "cell_type": "code",
      "metadata": {
        "id": "iqbZ-FU0JjMk",
        "colab_type": "code",
        "colab": {}
      },
      "source": [
        "import scipy"
      ],
      "execution_count": 0,
      "outputs": []
    },
    {
      "cell_type": "code",
      "metadata": {
        "id": "3QSlGdg5Ke80",
        "colab_type": "code",
        "colab": {}
      },
      "source": [
        ""
      ],
      "execution_count": 0,
      "outputs": []
    }
  ]
}