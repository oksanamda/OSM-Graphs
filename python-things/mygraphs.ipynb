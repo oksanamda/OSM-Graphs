{
 "cells": [
  {
   "cell_type": "markdown",
   "metadata": {},
   "source": [
    "### Подготовительный этап."
   ]
  },
  {
   "cell_type": "code",
   "execution_count": null,
   "metadata": {},
   "outputs": [],
   "source": [
    "import osmnx as ox\n",
    "import networkx as nx\n",
    "import matplotlib.pyplot as plt\n",
    "import numpy as np\n",
    "from random import random\n",
    "import csv\n",
    "imporn json # пока писать будет в json, но если что переделаем"
   ]
  },
  {
   "cell_type": "code",
   "execution_count": null,
   "metadata": {},
   "outputs": [],
   "source": [
    "place = {'city' : 'Ufa',\n",
    "         'country' : 'Russia'}\n",
    "G = ox.graph_from_place(place, network_type='drive', simplify=False)\n",
    "\n",
    "fig, ax = ox.plot_graph(G)"
   ]
  },
  {
   "cell_type": "code",
   "execution_count": null,
   "metadata": {},
   "outputs": [],
   "source": [
    "# нахождение расстояний между смежными узлами\n",
    "a = G.adj\n",
    "dictionary = {}\n",
    "i = 0\n",
    "for key, value in a.items():\n",
    "    if i == 10:\n",
    "        break\n",
    "    for key_a, value_a in value.items():\n",
    "\n",
    "        if key not in dictionary:\n",
    "            dictionary[key] = [{key_a:value_a[0]['length']}]\n",
    "        else:\n",
    "            dictionary[key].append({key_a:value_a[0]['length']})                  "
   ]
  },
  {
   "cell_type": "code",
   "execution_count": null,
   "metadata": {},
   "outputs": [],
   "source": [
    "nodes_list = list(G.nodes())"
   ]
  },
  {
   "cell_type": "code",
   "execution_count": null,
   "metadata": {},
   "outputs": [],
   "source": [
    "# вытаскиваем больницы и дома\n",
    "buildings = ox.footprints.footprints_from_place(place, footprint_type='building', retain_invalid=False, which_result=1)\n",
    "\n",
    "\n",
    "hospital = []\n",
    "apartments = []\n",
    "n = 10000\n",
    "build = buildings.head(n)['building'].to_dict()\n",
    "\n",
    "for key,value in build.items():\n",
    "    if value == 'hospital':\n",
    "        hospital.append(key)\n",
    "    elif value == 'apartments':\n",
    "        apartments.append(key)\n",
    "\n",
    "hospitals = hospital[:10]\n",
    "apartments = apartments[:100]\n",
    "\n",
    "# print(hospitals)\n",
    "# print(apartments)"
   ]
  },
  {
   "cell_type": "code",
   "execution_count": null,
   "metadata": {},
   "outputs": [],
   "source": [
    "# для каждой больницы и дома находим соответсвующие им (ближайшие) ноды на графе\n",
    "a = buildings.head(n).to_dict()\n",
    "hospitals_dict = {}\n",
    "apartments_dict = {}\n",
    "\n",
    "for i in hospitals:   \n",
    "    bounds = a['geometry'][i].bounds\n",
    "    nearest_node = ox.get_nearest_node(G, ((bounds[1]+bounds[3])/2, (bounds[0]+bounds[2])/2))\n",
    "    hospitals_dict[i] = nearest_node\n",
    "    # print(i, nearest_node)\n",
    "\n",
    "for i in apartments:\n",
    "    bounds = a['geometry'][i].bounds    \n",
    "    nearest_node = ox.get_nearest_node(G, ((bounds[1]+bounds[3])/2, (bounds[0]+bounds[2])/2))\n",
    "    apartments_dict[i] = nearest_node\n",
    "    # print(i, nearest_node)"
   ]
  },
  {
   "cell_type": "code",
   "execution_count": null,
   "metadata": {},
   "outputs": [],
   "source": [
    "# пример визуализации кратчайших путей (точки взяты из предыдущего пункта)\n",
    "route = nx.shortest_path(G,\n",
    "                         892683760,\n",
    "                         498826321, \n",
    "                         weight='length') \n",
    "\n",
    "ox.plot_graph_route(G, route, fig_height=10, fig_width=10)"
   ]
  },
  {
   "cell_type": "code",
   "execution_count": null,
   "metadata": {},
   "outputs": [],
   "source": [
    "# матрица смежностти в пандас\n",
    "G_pd = nx.to_pandas_adjacency(G)\n",
    "\n",
    "# можно записать в эксель и это даже работает!!\n",
    "G_pd.to_csv('matrix_adjacency_pandas.csv')"
   ]
  },
  {
   "cell_type": "code",
   "execution_count": null,
   "metadata": {},
   "outputs": [],
   "source": [
    "# переводив в нампаевский ndarray\n",
    "# !запускать только один раз!\n",
    "G_pd = G_pd.values"
   ]
  },
  {
   "cell_type": "code",
   "execution_count": null,
   "metadata": {},
   "outputs": [],
   "source": [
    "print(G_pd)"
   ]
  },
  {
   "cell_type": "code",
   "execution_count": null,
   "metadata": {},
   "outputs": [],
   "source": [
    "# пишем полученный ndarray в csv\n",
    "with open('matrix_adjacency.csv', \"w\", newline='') as csv_file:\n",
    "    writer = csv.writer(csv_file, delimiter=',')\n",
    "    for line in G_pd:\n",
    "        writer.writerow(line)"
   ]
  },
  {
   "cell_type": "code",
   "execution_count": null,
   "metadata": {},
   "outputs": [],
   "source": [
    "# вместо нулей и единиц записываем в матрицу смежности расстояния между нодами (по формуле из файла)\n",
    "for i in range(len(G_pd)):\n",
    "    for j in range(len(G_pd)):\n",
    "        if G_pd[i][j] == 1:\n",
    "            for k in range(len(dictionary[nodes_list[i]])):\n",
    "                if nodes_list[j] in dictionary[nodes_list[i]][k].keys():\n",
    "                    distance = dictionary[nodes_list[i]][k][nodes_list[j]]   \n",
    "            weight = 1\n",
    "            if nodes_list[i] in hospitals_dict.values():\n",
    "                weight = random() + 1\n",
    "            G_pd[i][j] = distance * weight\n",
    "# если ребра между нодами нет, то заполняем большими расстояниями (для нахождения крастчайших путей)\n",
    "# возможно, можно придумать что-то менее костыльное\n",
    "        if G_pd[i][j] == 0:\n",
    "            G_pd[i][j] = 10**10"
   ]
  },
  {
   "cell_type": "code",
   "execution_count": null,
   "metadata": {},
   "outputs": [],
   "source": [
    "# Создаем словарь {id узла}: {его index в списке узлов}\n",
    "nodes_numbers = {}\n",
    "for index,i in enumerate(nodes_list):\n",
    "    nodes_numbers[i]=index "
   ]
  },
  {
   "cell_type": "code",
   "execution_count": null,
   "metadata": {},
   "outputs": [],
   "source": [
    "# алгоритм Дейкстры поиска кратчайших путей\n",
    "# pred - матрица с предками\n",
    "# взят отсюда https://ru.wikibooks.org/wiki/Реализации_алгоритмов/Алгоритм_Дейкстры\n",
    "def dijkstra(N, S, matrix, pred):\n",
    "    valid = [True]*N\n",
    "    weight = [10**10]*N\n",
    "    weight[S] = 0\n",
    "    for i in range(N):\n",
    "        min_weight = 10**10+1\n",
    "        ID_min_weight = -1\n",
    "        for j in range(N):\n",
    "            if valid[j] and weight[j] < min_weight:\n",
    "                min_weight = weight[j]\n",
    "                ID_min_weight = j\n",
    "                for z in range(N):\n",
    "                    if weight[ID_min_weight] + matrix[ID_min_weight][z] < weight[z]:\n",
    "                        weight[z] = weight[ID_min_weight] + matrix[ID_min_weight][z]\n",
    "                        pred[z] = ID_min_weight\n",
    "        valid[ID_min_weight] = False\n",
    "    return weight"
   ]
  },
  {
   "cell_type": "code",
   "execution_count": null,
   "metadata": {},
   "outputs": [],
   "source": [
    "# делаем листы для использования Дейсктры \n",
    "hospital_values = list(hospitals_dict.values())\n",
    "apartments_values = list(apartments_dict.values())"
   ]
  },
  {
   "cell_type": "code",
   "execution_count": null,
   "metadata": {},
   "outputs": [],
   "source": [
    "# создаем общий лист, чтобы сделать и дома, и больницы одновременно\n",
    "new_nodes = apartments_values + hospital_values"
   ]
  },
  {
   "cell_type": "code",
   "execution_count": null,
   "metadata": {},
   "outputs": [],
   "source": [
    "# матрица в которой будем хранить значения кратчайших путей\n",
    "short_path_matrix = np.zeros((len(new_nodes), len(new_nodes)))\n",
    "\n",
    "# словарь, который хранит дерево кратчайших расстояний из вершины i\n",
    "pred_dict = {}\n",
    "\n",
    "index_nodes = [] # индексы узлов домов\n",
    "for i in new_nodes:\n",
    "    index_nodes.append(nodes_numbers[i]) # в качестве индекса номер, соответствующий id узла"
   ]
  },
  {
   "cell_type": "code",
   "execution_count": null,
   "metadata": {},
   "outputs": [],
   "source": [
    "# пример работы дейкстры, работает около 30-40 минут (хз почеу)\n",
    "p = {}\n",
    "dijkstra(len(G_pd), 0, G_pd, p)\n",
    "# вывод дерева кратчайших путей из вершины 0, где у каждого узла указан предок\n",
    "print(p)"
   ]
  },
  {
   "cell_type": "code",
   "execution_count": null,
   "metadata": {},
   "outputs": [],
   "source": [
    "# поиск кратчайших путей (по расстоянию, если что (а то там был варик по времени поездки))\n",
    "for i in range(len(new_nodes)):\n",
    "    pred = {}\n",
    "    index = index_nodes[i]\n",
    "    distance = dijkstra(len(G_pd), index, G_pd, pred)\n",
    "    pred_dict[index] = pred\n",
    "    for j in range(len(new_nodes)):\n",
    "        short_path_matrix[i][j] = distance[index_nodes[j]]\n",
    "\n",
    "        \n",
    "print(short_path_matrix)"
   ]
  },
  {
   "cell_type": "code",
   "execution_count": null,
   "metadata": {},
   "outputs": [],
   "source": [
    "# если нет кратчайшего пути, то ставим очень большое число\n",
    "for i in range(len(new_nodes)):\n",
    "    for j in range(len(new_nodes)):\n",
    "        if short_path_matrix[i][j] == 0 and i!=j:\n",
    "            short_path_matrix[i][j] = 10**10"
   ]
  },
  {
   "cell_type": "code",
   "execution_count": null,
   "metadata": {},
   "outputs": [],
   "source": [
    "b = short_path_matrix.tolist()\n",
    "a = {'matrix':b}\n",
    "\n",
    "# пишем в json матрицу кратчайших путей\n",
    "with open('short_path.json','w') as f:\n",
    "    json.dump(a,f)"
   ]
  },
  {
   "cell_type": "code",
   "execution_count": null,
   "metadata": {},
   "outputs": [],
   "source": [
    "# записываем матрицу кратчайших путей в csv\n",
    "with open('matrix_adjacency_final.csv', \"w\", newline='') as csv_file:\n",
    "    writer = csv.writer(csv_file, delimiter=',')\n",
    "    for line in short_path_matrix:\n",
    "        writer.writerow(line)"
   ]
  },
  {
   "cell_type": "code",
   "execution_count": null,
   "metadata": {},
   "outputs": [],
   "source": [
    "# функция, находящая кратчайший путь между двумя вершинами a и b \n",
    "def find_short_path(pred_dict, index_a, index_b):\n",
    "    path = []\n",
    "    path.append(index_b)\n",
    "    temp = index_b\n",
    "    while pred_dict[index_a][temp] != index_a:\n",
    "        path.append(pred_dict[index_a][temp])\n",
    "        temp = pred_dict[index_a][temp]\n",
    "    path.append(index_a)\n",
    "    path.reverse()\n",
    "    return path"
   ]
  },
  {
   "cell_type": "code",
   "execution_count": null,
   "metadata": {},
   "outputs": [],
   "source": [
    "# пишем в json файл дерево кратчайших путей\n",
    "with open('short_path_tree.json', 'w') as f:\n",
    "    json.dump(pred_dict, f)"
   ]
  },
  {
   "cell_type": "code",
   "execution_count": null,
   "metadata": {},
   "outputs": [],
   "source": [
    "# то же самое, что предыдущее, но для всех путей\n",
    "def find_all_short_path(pred_dict):\n",
    "    short_paths = {}\n",
    "    for i in pred_dict.keys():\n",
    "        path = {}\n",
    "        for j in pred_dict[i].keys():\n",
    "            path[j] = find_short_path(pred_dict, i, j)\n",
    "        short_paths[i] = path\n",
    "    return short_paths\n",
    "\n",
    "short_paths = find_all_short_path(pred_dict)"
   ]
  },
  {
   "cell_type": "code",
   "execution_count": null,
   "metadata": {},
   "outputs": [],
   "source": [
    "# пишем в json все кратчайшие пути\n",
    "with open('short_paths.json', 'w') as f:\n",
    "    json.dump(short_paths, f)"
   ]
  },
  {
   "cell_type": "code",
   "execution_count": null,
   "metadata": {},
   "outputs": [],
   "source": [
    "# получение ключа \n",
    "def get_key(d, value):\n",
    "    for k, v in d.items():\n",
    "        if v == value:\n",
    "            return k\n",
    "    return -1\n",
    "\n",
    "# получение айди\n",
    "def get_id(nodes_numbers, index_nodes, i):\n",
    "    temp = get_key(nodes_numbers, index_nodes[i])\n",
    "    if temp == -1:\n",
    "        return \"Не найдено id узла\"\n",
    "    else:\n",
    "        return temp"
   ]
  },
  {
   "cell_type": "markdown",
   "metadata": {},
   "source": [
    "### Первое задание (пункты подписаны)."
   ]
  },
  {
   "cell_type": "code",
   "execution_count": null,
   "metadata": {},
   "outputs": [],
   "source": [
    "from numpy import genfromtxt\n",
    "# считываем матрицу кратчайгих расстояний из csv файла\n",
    "data = genfromtxt('matrix_adjacency_final.csv', delimiter=',') "
   ]
  },
  {
   "cell_type": "markdown",
   "metadata": {},
   "source": [
    "### Пункт 1.а \n",
    "Для каждого дома определить ближайший от узла объект (путь “туда”), ближайший к объекту узел (путь “обратно”), объект, расстояние до которого и обратно минимально (“туда и обратно”)."
   ]
  },
  {
   "cell_type": "code",
   "execution_count": null,
   "metadata": {},
   "outputs": [],
   "source": [
    "# функция нахождения ближайшей больницы\n",
    "def find_nearest_hospitals(dist_matrix, apart_count=100):\n",
    "    nearest_hosp_list = [[-1 for i in range(3)] for j in range(apart_count)]\n",
    "    for i in range(apart_count):\n",
    "        nearest_hosp_list[i][0] = np.argmin(dist_matrix[i][apart_count:]) + apart_count\n",
    "        nearest_hosp_list[i][1] = np.argmin(np.array(dist_matrix[apart_count:]).transpose()[i]) + apart_count\n",
    "        tuda = dist_matrix[i][apart_count:]\n",
    "        suda = np.array(dist_matrix[apart_count:]).transpose()[i]\n",
    "        nearest_hosp_list[i][2] = np.argmin(tuda + suda) + apart_count\n",
    "    return nearest_hosp_list"
   ]
  },
  {
   "cell_type": "code",
   "execution_count": null,
   "metadata": {},
   "outputs": [],
   "source": [
    "# запуск программы\n",
    "find_nearest_hospitals(data)"
   ]
  },
  {
   "cell_type": "markdown",
   "metadata": {},
   "source": [
    "### Пункт 1.b\n",
    "Для каждого дома определить объекты, расположенные не далее, чем в X км для каждого из трех вариантов “туда”, “обратно”, “туда и обратно”."
   ]
  },
  {
   "cell_type": "code",
   "execution_count": null,
   "metadata": {},
   "outputs": [],
   "source": [
    "# возвращаемый список содержит списки с 3-мя списками индексов подходящих объектов: \"туда\", \"обратно\" и \"туда и обратно\" \n",
    "# содержат своё количество индексов - это списки второго уровня,индекс списка первого уровня соответствует индексу дома во входной матрице расстояний. \n",
    "def find_in_radius(dist_matrix, radius, apart_count=100):\n",
    "    permissible_hosps = [[[] for i in range(3)] for j in range(apart_count)]\n",
    "    for i in range(apart_count):\n",
    "        for j in range(apart_count, len(dist_matrix)):\n",
    "            if dist_matrix[i][j] <= radius:\n",
    "                permissible_hosps[i][0].append(j)\n",
    "            if dist_matrix[j][i] <= radius:\n",
    "                permissible_hosps[i][1].append(j)\n",
    "            if dist_matrix[i][j] + dist_matrix[j][i] <= radius:\n",
    "                permissible_hosps[i][2].append(j)\n",
    "    return permissible_hosps"
   ]
  },
  {
   "cell_type": "code",
   "execution_count": null,
   "metadata": {},
   "outputs": [],
   "source": [
    "# запуск программы, radius произвольный\n",
    "radius = 500\n",
    "find_in_radius(data, radius)"
   ]
  },
  {
   "cell_type": "markdown",
   "metadata": {},
   "source": [
    "### Пункт 2\n",
    "Определить, какой из объектов расположен так, что расстояние между ним и самым дальним домом минимально (“туда”, “обратно”, “туда и обратно”)."
   ]
  },
  {
   "cell_type": "code",
   "execution_count": null,
   "metadata": {},
   "outputs": [],
   "source": [
    "# возвращаемый список содержит три больницы - [ \"туда\", \"обратно\", \"туда и обратно\" ], где \"туда\" – из дома в больницу\n",
    "def get_optimal_hospitals(dist_matrix, apart_count=100):\n",
    "    optimal_hosps = []\n",
    "    tuda = np.array(dist_matrix[:apart_count]).transpose()[apart_count:]\n",
    "    optimal_hosps.append(np.argmin(np.amax(tuda, 1)) + apart_count)\n",
    "    suda = np.array(dist_matrix[apart_count:])[:, :apart_count]\n",
    "    optimal_hosps.append(np.argmin(np.amax(suda, 1)) + apart_count)\n",
    "    tuda_suda = tuda + suda\n",
    "    optimal_hosps.append(np.argmin(np.amax(tuda_suda, 1)) + apart_count)\n",
    "    return optimal_hosps"
   ]
  },
  {
   "cell_type": "code",
   "execution_count": null,
   "metadata": {},
   "outputs": [],
   "source": [
    "# запуск программы\n",
    "opt = get_optimal_hospitals(data)"
   ]
  },
  {
   "cell_type": "markdown",
   "metadata": {},
   "source": [
    "### Пункт 3\n",
    "\n",
    "Определить, для какого объекта инфраструктуры сумма кратчайших расстояний от него до всех домов минимальна."
   ]
  },
  {
   "cell_type": "code",
   "execution_count": null,
   "metadata": {},
   "outputs": [],
   "source": [
    "# возвращает id больницы\n",
    "def min_sum_hosp(dist_matrix, apart_count=100):\n",
    "    dist_sums = np.array(dist_matrix[apart_count:])[:, :apart_count]\n",
    "    dist_sums = np.sum(dist_sums, 1)\n",
    "    min_hosp = np.argmin(dist_sums) + apart_count\n",
    "    hosp_id = get_id(nodes_numbers, index_nodes, min_hosp)\n",
    "    return hosp_id"
   ]
  },
  {
   "cell_type": "code",
   "execution_count": null,
   "metadata": {},
   "outputs": [],
   "source": [
    "# запуск программы\n",
    "min_hosp_id = min_sum_hosp(data)"
   ]
  },
  {
   "cell_type": "markdown",
   "metadata": {},
   "source": [
    "### Пункт 4\n",
    "Определить, для какого объекта инфраструктуры построенное дерево кратчайших путей имеет минимальный вес."
   ]
  },
  {
   "cell_type": "code",
   "execution_count": null,
   "metadata": {},
   "outputs": [],
   "source": [
    "# считаем вес дерева кратчаших путей\n",
    "def tree_weight(tree, root, matrix):\n",
    "    weight = 0\n",
    "    for i in tree[root].keys():\n",
    "        j = tree[root][i]\n",
    "        weight += matrix[j][i]\n",
    "    return weight\n",
    "\n",
    "# нахождение дерева минимального веса, где корни - больницы\n",
    "def minimal_tree_hospitals(tree, matrix, hospitals):\n",
    "    min_value = 10**10\n",
    "    root = 0\n",
    "    for i in hospitals:\n",
    "        temp = tree_weight(tree, str(i), matrix)\n",
    "        print(i, temp)\n",
    "        if temp < min_value:\n",
    "            min_value = temp\n",
    "            root = i\n",
    "    return root"
   ]
  },
  {
   "cell_type": "code",
   "execution_count": null,
   "metadata": {},
   "outputs": [],
   "source": [
    "# загружаем наши деревья кратчайших путей\n",
    "with open('short_path_tree.json') as f:\n",
    "    short_path_tree = json.load(f)\n",
    "\n",
    "# берем список деревьев (они в конце index_nodes, поэтому берем последние 10)\n",
    "hospitals = index_nodes[:-10]\n",
    "\n",
    "# ищем номер корня дерева минимального веса из больниц\n",
    "min_tree_root = minimal_tree_hospitals(short_path_tree, data, hospitals)\n",
    "hosp_id = get_id(nodes_numbers, index_nodes, min_tree_root)"
   ]
  }
 ],
 "metadata": {
  "kernelspec": {
   "display_name": "Python 3",
   "language": "python",
   "name": "python3"
  },
  "language_info": {
   "codemirror_mode": {
    "name": "ipython",
    "version": 3
   },
   "file_extension": ".py",
   "mimetype": "text/x-python",
   "name": "python",
   "nbconvert_exporter": "python",
   "pygments_lexer": "ipython3",
   "version": "3.8.2"
  }
 },
 "nbformat": 4,
 "nbformat_minor": 2
}
